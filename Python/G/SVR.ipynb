{
 "cells": [
  {
   "cell_type": "markdown",
   "execution_count": null,
   "metadata": {},
   "outputs": [],
   "source": [
    " # 毕业设计"
   ]
  },
  {
   "cell_type": "code",
   "execution_count": 1,
   "metadata": {},
   "outputs": [],
   "source": [
    "import os\n",
    "\n",
    "import numpy as np\n",
    "import pandas as pd\n",
    "import plotly.express as px\n",
    "import plotly.figure_factory as ff\n",
    "import plotly.graph_objects as go\n",
    "from plotly.subplots import make_subplots\n",
    "from sklearn.metrics import mean_squared_error\n",
    "from sklearn.model_selection import (RandomizedSearchCV, KFold,\n",
    "                                     train_test_split)\n",
    "from sklearn.preprocessing import StandardScaler\n",
    "from sklearn.svm import SVR\n"
   ]
  },
  {
   "cell_type": "markdown",
   "execution_count": null,
   "metadata": {},
   "outputs": [],
   "source": [
    " ## 获取数据"
   ]
  },
  {
   "cell_type": "code",
   "execution_count": null,
   "metadata": {},
   "outputs": [],
   "source": [
    "path = '../../../Dataset/Stock/'\n",
    "freq_dict = {\n",
    "    'day': 'B',\n",
    "    'week': '7D',\n",
    "    'month': 'BM'\n",
    "}\n",
    "offset_dict = {\n",
    "    'day': pd.offsets.BDay(),\n",
    "    'week': pd.offsets.Week(),\n",
    "    'month': pd.offsets.BusinessMonthEnd()\n",
    "}\n",
    "\n",
    "\n",
    "def get_data(frequency: str, T: str) -> None:\n",
    "    data_path = os.path.join(path, frequency)\n",
    "    data_1 = pd.read_csv('Data/test.csv')  # 空文件，迭代用\n",
    "    freq = freq_dict[frequency]\n",
    "    offset = offset_dict[frequency]\n",
    "\n",
    "    for file in os.listdir(data_path):\n",
    "        df = pd.read_csv(os.path.join(data_path, file), index_col='index', parse_dates=True)  # 以时间序列为索引\n",
    "        df.dropna(inplace=True)  # 去除空值\n",
    "\n",
    "        up = df.query('open<close')  # 阳线\n",
    "        down = df.query('open>close')  # 阴线\n",
    "        up = up.tshift(1, freq=freq)  # 将阳线时间戳后移\n",
    "\n",
    "        new = up.join(down, how='inner', lsuffix='_up', rsuffix='_down')  # 合并\n",
    "        new.query('vol_down>vol_up', inplace=True)  # vol(2)>vol(1)\n",
    "\n",
    "        # close(2)>close(1)\n",
    "        first = new.query('close_down>close_up')\n",
    "        low_mean = pd.Series(index=first.index, name='T_mean')\n",
    "        for start in first.index:\n",
    "            period = pd.date_range(start=start + offset, periods=int(T), freq=freq)\n",
    "            # 时间范围可能无效\n",
    "            try:\n",
    "                low_mean[start] = df.loc[period].low.mean()\n",
    "            except:\n",
    "                first.drop(index=start, inplace=True)  # 清除无效行\n",
    "                continue\n",
    "        low_mean = pd.Series(low_mean, index=first.index, name='T_mean')\n",
    "        piece = pd.concat([first, low_mean], axis=1, join='inner').reset_index(drop=True)  # 去除时间索引\n",
    "        data_1 = pd.concat([data_1, piece])\n",
    "\n",
    "    # close(2)>close(1) & low(2)<low(1)\n",
    "    data_2 = data_1.query('low_down<low_up')\n",
    "\n",
    "    data_1.to_csv(os.path.join('Data', 'T=' + T, frequency + '_1.csv'), index=False)\n",
    "    data_2.to_csv(os.path.join('Data', 'T=' + T, frequency + '_2.csv'), index=False)\n",
    "\n"
   ]
  },
  {
   "cell_type": "code",
   "execution_count": null,
   "metadata": {},
   "outputs": [],
   "source": [
    "for T in np.arange(2, 16).astype(np.str):\n",
    "    for frequency in ['day', 'week']:  # month数据量太少，无意义\n",
    "        get_data(frequency, T)\n"
   ]
  },
  {
   "cell_type": "markdown",
   "execution_count": null,
   "metadata": {},
   "outputs": [],
   "source": [
    " ## 构建模型"
   ]
  },
  {
   "cell_type": "code",
   "execution_count": null,
   "metadata": {},
   "outputs": [],
   "source": [
    "path = 'Data/'\n"
   ]
  },
  {
   "cell_type": "code",
   "execution_count": null,
   "metadata": {},
   "outputs": [],
   "source": [
    "\n",
    "\n",
    "def del_outliers(df: pd.DataFrame) -> pd.DataFrame:\n",
    "    q1 = df['T_mean'].quantile(0.25)\n",
    "    q3 = df['T_mean'].quantile(0.75)\n",
    "    iqr = q3 - q1\n",
    "    low = q1 - 1.5 * iqr\n",
    "    high = q3 + 1.5 * iqr\n",
    "    return df[(df['T_mean'] > low) & (df['T_mean'] < high)]\n"
   ]
  },
  {
   "cell_type": "code",
   "execution_count": null,
   "metadata": {},
   "outputs": [],
   "source": [
    "\n",
    "\n",
    "def training_with_all(state: str, T_range: np.ndarray, param: dict) -> pd.DataFrame:\n",
    "    result = pd.DataFrame(columns=['mse', 'gamma', 'C'], index=T_range)\n",
    "\n",
    "    print(state, ' begin.')\n",
    "\n",
    "    for T in T_range:\n",
    "        data_path = os.path.join(path, 'T=' + T, state + '.csv')\n",
    "        df = pd.read_csv(data_path)\n",
    "\n",
    "        new = del_outliers(df)\n",
    "\n",
    "        X = new.drop(columns='T_mean')\n",
    "        y = new['T_mean']\n",
    "\n",
    "        X_train, X_test, y_train, y_test = train_test_split(X, y, test_size=0.2, random_state=42)\n",
    "        std_scaler = StandardScaler()\n",
    "        X_train = std_scaler.fit_transform(X_train)\n",
    "        X_test = std_scaler.transform(X_test)\n",
    "\n",
    "        cv = KFold(n_splits=5, random_state=42)\n",
    "        randomcv = RandomizedSearchCV(SVR(kernel='rbf'), param_distributions=param, scoring='neg_mean_squared_error', n_jobs=-1, cv=cv, random_state=42, verbose=2)\n",
    "        randomcv.fit(X_train, y_train)\n",
    "\n",
    "        y_pred = randomcv.predict(X_test)\n",
    "        mse = mean_squared_error(y_test, y_pred)\n",
    "        result['mse'][T] = mse\n",
    "        result['gamma'][T] = randomcv.best_estimator_.gamma\n",
    "        result['C'][T] = randomcv.best_estimator_.C\n",
    "        print('T=' + T + ': complete.', 'mse=', mse, ', param=', randomcv.best_params_)\n",
    "\n",
    "    print(state, ' complete.')\n",
    "\n",
    "    return result\n",
    "\n"
   ]
  },
  {
   "cell_type": "code",
   "execution_count": null,
   "metadata": {},
   "outputs": [],
   "source": [
    "T_range = np.arange(2, 16).astype(np.str)\n",
    "param = {\n",
    "    'gamma': np.logspace(-4, -1, 4),\n",
    "    'C': np.logspace(1, 4, 4)\n",
    "}\n",
    "for state in ['day_1', 'day_2', 'week_1', 'week_2']:\n",
    "    result = training_with_all(state=state, T_range=T_range, param=param)\n",
    "    result.to_csv('result_' + state + '.csv', index_label='T')\n"
   ]
  },
  {
   "cell_type": "markdown",
   "execution_count": null,
   "metadata": {},
   "outputs": [],
   "source": [
    " ### 测试"
   ]
  },
  {
   "cell_type": "code",
   "execution_count": null,
   "metadata": {},
   "outputs": [],
   "source": [
    "T_range = np.arange(2, 16).astype(np.str)\n",
    "param = {\n",
    "    'gamma': np.logspace(-4, -1, 4),\n",
    "    'C': np.logspace(1, 4, 4)\n",
    "}\n",
    "test = training_with_all(state='day_1', T_range=T_range, param=param)\n",
    "test.to_csv('result_' + state + '.csv', index_label='T')\n"
   ]
  },
  {
   "cell_type": "markdown",
   "execution_count": null,
   "metadata": {},
   "outputs": [],
   "source": [
    " ## 结论"
   ]
  },
  {
   "cell_type": "markdown",
   "execution_count": null,
   "metadata": {},
   "outputs": [],
   "source": [
    "### 重置数据"
   ]
  },
  {
   "cell_type": "code",
   "execution_count": null,
   "metadata": {},
   "outputs": [],
   "source": [
    "\n",
    "\n",
    "def reset_data(state: str) -> None:\n",
    "    df = pd.read_csv('result_' + state + '.csv', index_col='T')  # type:pd.DataFrame\n",
    "    df = df.values.tolist()\n",
    "    for i in np.arange(14):\n",
    "        tmp = eval(df[i][1])\n",
    "        df[i].pop()\n",
    "        df[i] += [tmp['gamma'], tmp['C']]\n",
    "    df = pd.DataFrame(df, index=np.arange(2, 16), columns=['mse', 'gamma', 'C'])\n",
    "    df.to_csv('result_' + state + '.csv', index_label='T')\n",
    "\n"
   ]
  },
  {
   "cell_type": "code",
   "execution_count": null,
   "metadata": {},
   "outputs": [],
   "source": [
    "for state in ['day_1', 'day_2', 'week_1', 'week_2']:\n",
    "    reset_data(state)\n"
   ]
  },
  {
   "cell_type": "markdown",
   "execution_count": null,
   "metadata": {},
   "outputs": [],
   "source": [
    "### 图表"
   ]
  },
  {
   "cell_type": "code",
   "execution_count": 2,
   "metadata": {},
   "outputs": [],
   "source": [
    "day_1 = pd.read_csv('result_day_1.csv', index_col='T')\n",
    "day_2 = pd.read_csv('result_day_2.csv', index_col='T')\n",
    "week_1 = pd.read_csv('result_week_1.csv', index_col='T')\n",
    "week_2 = pd.read_csv('result_week_2.csv', index_col='T')\n"
   ]
  },
  {
   "cell_type": "code",
   "execution_count": 4,
   "metadata": {},
   "outputs": [
    {
     "data": {
      "application/vnd.plotly.v1+json": {
       "config": {
        "plotlyServerURL": "https://plot.ly"
       },
       "data": [
        {
         "hovertemplate": "T=%{x}<br>gamma=%{y}<br>C=%{z}<br>mse=%{text}",
         "marker": {
          "size": [
           1.7877628995704606,
           2.1589833144446366,
           3.0792444950448328,
           3.2039114670033166,
           4.573911270171729,
           6.218160487714979,
           4.851773792346163,
           5.610481377909492,
           7.186494708547419,
           6.696624051965473,
           6.720233691731188,
           7.6192576678353845,
           8.274069283397626,
           9.379215773401176
          ]
         },
         "mode": "markers",
         "name": "day_1",
         "scene": "scene",
         "text": [
          0.17877628995704606,
          0.2158983314444637,
          0.3079244495044833,
          0.32039114670033164,
          0.4573911270171729,
          0.6218160487714979,
          0.4851773792346163,
          0.5610481377909492,
          0.7186494708547418,
          0.6696624051965473,
          0.6720233691731188,
          0.7619257667835384,
          0.8274069283397626,
          0.9379215773401176
         ],
         "type": "scatter3d",
         "x": [
          2,
          3,
          4,
          5,
          6,
          7,
          8,
          9,
          10,
          11,
          12,
          13,
          14,
          15
         ],
         "y": [
          0.01,
          0.01,
          0.01,
          0.01,
          0.01,
          0.001,
          0.01,
          0.01,
          0.01,
          0.01,
          0.01,
          0.01,
          0.001,
          0.001
         ],
         "z": [
          10,
          10,
          10,
          10,
          10,
          1000,
          10,
          10,
          10,
          10,
          10,
          10,
          1000,
          1000
         ]
        },
        {
         "hovertemplate": "T=%{x}<br>gamma=%{y}<br>C=%{z}<br>mse=%{text}",
         "marker": {
          "size": [
           2.4037604893210958,
           2.552784417541986,
           17.511120199190337,
           4.079612019244548,
           5.131833498213457,
           3.8349813748019166,
           4.667798323887287,
           6.768849855984006,
           13.383702833797154,
           30.784631115262716,
           7.147798140502136,
           69.53686870681526,
           13.778186771832656,
           8.397974267838842
          ]
         },
         "mode": "markers",
         "name": "day_2",
         "scene": "scene2",
         "text": [
          0.2403760489321096,
          0.25527844175419856,
          1.7511120199190338,
          0.4079612019244548,
          0.5131833498213456,
          0.3834981374801917,
          0.4667798323887287,
          0.6768849855984006,
          1.3383702833797153,
          3.0784631115262715,
          0.7147798140502136,
          6.953686870681526,
          1.3778186771832657,
          0.8397974267838842
         ],
         "type": "scatter3d",
         "x": [
          2,
          3,
          4,
          5,
          6,
          7,
          8,
          9,
          10,
          11,
          12,
          13,
          14,
          15
         ],
         "y": [
          0.01,
          0.01,
          0.01,
          0.1,
          0.01,
          0.01,
          0.01,
          0.01,
          0.01,
          0.1,
          0.01,
          0.001,
          0.0001,
          0.001
         ],
         "z": [
          10,
          10,
          10000,
          1000,
          10000,
          10,
          10,
          10,
          10,
          1000,
          10,
          100,
          1000,
          10
         ]
        },
        {
         "hovertemplate": "T=%{x}<br>gamma=%{y}<br>C=%{z}<br>mse=%{text}",
         "marker": {
          "size": [
           5.581369410952491,
           6.893035547093852,
           12.39537282930283,
           12.691545584919604,
           21.93516233859836,
           18.800922435033797,
           19.402466204814182,
           27.590230987534746,
           23.705840848846442,
           21.641322334776653,
           25.236650299385254,
           28.36797129256881,
           33.119726993931245,
           32.07421416205135
          ]
         },
         "mode": "markers",
         "name": "week_1",
         "scene": "scene3",
         "text": [
          0.5581369410952491,
          0.6893035547093852,
          1.2395372829302829,
          1.2691545584919603,
          2.193516233859836,
          1.8800922435033798,
          1.9402466204814184,
          2.7590230987534747,
          2.3705840848846442,
          2.164132233477665,
          2.5236650299385253,
          2.836797129256881,
          3.311972699393124,
          3.207421416205135
         ],
         "type": "scatter3d",
         "x": [
          2,
          3,
          4,
          5,
          6,
          7,
          8,
          9,
          10,
          11,
          12,
          13,
          14,
          15
         ],
         "y": [
          0.001,
          0.001,
          0.001,
          0.001,
          0.001,
          0.001,
          0.001,
          0.001,
          0.001,
          0.001,
          0.001,
          0.001,
          0.001,
          0.001
         ],
         "z": [
          1000,
          1000,
          1000,
          1000,
          1000,
          10000,
          1000,
          1000,
          1000,
          10000,
          1000,
          1000,
          1000,
          10000
         ]
        },
        {
         "hovertemplate": "T=%{x}<br>gamma=%{y}<br>C=%{z}<br>mse=%{text}",
         "marker": {
          "size": [
           2.1682621655751344,
           6.894534926925452,
           6.305286128125283,
           7.741420401811828,
           10.849953175915072,
           14.529473073618217,
           14.21999391348393,
           20.688917927129133,
           22.745588667499042,
           31.81993190901853,
           17.490160899832844,
           20.262118410714926,
           55.78807071114348,
           16.599616694726066
          ]
         },
         "mode": "markers",
         "name": "week_2",
         "scene": "scene4",
         "text": [
          0.21682621655751344,
          0.6894534926925452,
          0.6305286128125284,
          0.7741420401811828,
          1.0849953175915072,
          1.4529473073618218,
          1.421999391348393,
          2.0688917927129133,
          2.274558866749904,
          3.181993190901853,
          1.7490160899832845,
          2.0262118410714924,
          5.5788070711143485,
          1.6599616694726065
         ],
         "type": "scatter3d",
         "x": [
          2,
          3,
          4,
          5,
          6,
          7,
          8,
          9,
          10,
          11,
          12,
          13,
          14,
          15
         ],
         "y": [
          0.0001,
          0.001,
          0.0001,
          0.0001,
          0.0001,
          0.001,
          0.001,
          0.001,
          0.0001,
          0.001,
          0.001,
          0.001,
          0.001,
          0.001
         ],
         "z": [
          1000,
          100,
          1000,
          1000,
          1000,
          100,
          100,
          1000,
          1000,
          1000,
          100,
          100,
          10000,
          100
         ]
        }
       ],
       "layout": {
        "annotations": [
         {
          "font": {
           "size": 16
          },
          "showarrow": false,
          "text": "day_1",
          "x": 0.225,
          "xanchor": "center",
          "xref": "paper",
          "y": 1,
          "yanchor": "bottom",
          "yref": "paper"
         },
         {
          "font": {
           "size": 16
          },
          "showarrow": false,
          "text": "day_2",
          "x": 0.775,
          "xanchor": "center",
          "xref": "paper",
          "y": 1,
          "yanchor": "bottom",
          "yref": "paper"
         },
         {
          "font": {
           "size": 16
          },
          "showarrow": false,
          "text": "week_1",
          "x": 0.225,
          "xanchor": "center",
          "xref": "paper",
          "y": 0.375,
          "yanchor": "bottom",
          "yref": "paper"
         },
         {
          "font": {
           "size": 16
          },
          "showarrow": false,
          "text": "week_2",
          "x": 0.775,
          "xanchor": "center",
          "xref": "paper",
          "y": 0.375,
          "yanchor": "bottom",
          "yref": "paper"
         }
        ],
        "height": 1000,
        "scene": {
         "domain": {
          "x": [
           0,
           0.45
          ],
          "y": [
           0.625,
           1
          ]
         },
         "xaxis": {
          "title": {
           "text": "T"
          }
         },
         "yaxis": {
          "tickvals": [
           0.0001,
           0.001,
           0.01,
           0.1
          ],
          "title": {
           "text": "gamma"
          },
          "type": "log"
         },
         "zaxis": {
          "tickvals": [
           10,
           100,
           1000,
           10000
          ],
          "title": {
           "text": "C"
          },
          "type": "log"
         }
        },
        "scene2": {
         "domain": {
          "x": [
           0.55,
           1
          ],
          "y": [
           0.625,
           1
          ]
         },
         "xaxis": {
          "title": {
           "text": "T"
          }
         },
         "yaxis": {
          "tickvals": [
           0.0001,
           0.001,
           0.01,
           0.1
          ],
          "title": {
           "text": "gamma"
          },
          "type": "log"
         },
         "zaxis": {
          "tickvals": [
           10,
           100,
           1000,
           10000
          ],
          "title": {
           "text": "C"
          },
          "type": "log"
         }
        },
        "scene3": {
         "domain": {
          "x": [
           0,
           0.45
          ],
          "y": [
           0,
           0.375
          ]
         },
         "xaxis": {
          "title": {
           "text": "T"
          }
         },
         "yaxis": {
          "tickvals": [
           0.0001,
           0.001,
           0.01,
           0.1
          ],
          "title": {
           "text": "gamma"
          },
          "type": "log"
         },
         "zaxis": {
          "tickvals": [
           10,
           100,
           1000,
           10000
          ],
          "title": {
           "text": "C"
          },
          "type": "log"
         }
        },
        "scene4": {
         "domain": {
          "x": [
           0.55,
           1
          ],
          "y": [
           0,
           0.375
          ]
         },
         "xaxis": {
          "title": {
           "text": "T"
          }
         },
         "yaxis": {
          "tickvals": [
           0.0001,
           0.001,
           0.01,
           0.1
          ],
          "title": {
           "text": "gamma"
          },
          "type": "log"
         },
         "zaxis": {
          "tickvals": [
           10,
           100,
           1000,
           10000
          ],
          "title": {
           "text": "C"
          },
          "type": "log"
         }
        },
        "showlegend": false,
        "template": {
         "data": {
          "bar": [
           {
            "error_x": {
             "color": "#2a3f5f"
            },
            "error_y": {
             "color": "#2a3f5f"
            },
            "marker": {
             "line": {
              "color": "#E5ECF6",
              "width": 0.5
             }
            },
            "type": "bar"
           }
          ],
          "barpolar": [
           {
            "marker": {
             "line": {
              "color": "#E5ECF6",
              "width": 0.5
             }
            },
            "type": "barpolar"
           }
          ],
          "carpet": [
           {
            "aaxis": {
             "endlinecolor": "#2a3f5f",
             "gridcolor": "white",
             "linecolor": "white",
             "minorgridcolor": "white",
             "startlinecolor": "#2a3f5f"
            },
            "baxis": {
             "endlinecolor": "#2a3f5f",
             "gridcolor": "white",
             "linecolor": "white",
             "minorgridcolor": "white",
             "startlinecolor": "#2a3f5f"
            },
            "type": "carpet"
           }
          ],
          "choropleth": [
           {
            "colorbar": {
             "outlinewidth": 0,
             "ticks": ""
            },
            "type": "choropleth"
           }
          ],
          "contour": [
           {
            "colorbar": {
             "outlinewidth": 0,
             "ticks": ""
            },
            "colorscale": [
             [
              0,
              "#0d0887"
             ],
             [
              0.1111111111111111,
              "#46039f"
             ],
             [
              0.2222222222222222,
              "#7201a8"
             ],
             [
              0.3333333333333333,
              "#9c179e"
             ],
             [
              0.4444444444444444,
              "#bd3786"
             ],
             [
              0.5555555555555556,
              "#d8576b"
             ],
             [
              0.6666666666666666,
              "#ed7953"
             ],
             [
              0.7777777777777778,
              "#fb9f3a"
             ],
             [
              0.8888888888888888,
              "#fdca26"
             ],
             [
              1,
              "#f0f921"
             ]
            ],
            "type": "contour"
           }
          ],
          "contourcarpet": [
           {
            "colorbar": {
             "outlinewidth": 0,
             "ticks": ""
            },
            "type": "contourcarpet"
           }
          ],
          "heatmap": [
           {
            "colorbar": {
             "outlinewidth": 0,
             "ticks": ""
            },
            "colorscale": [
             [
              0,
              "#0d0887"
             ],
             [
              0.1111111111111111,
              "#46039f"
             ],
             [
              0.2222222222222222,
              "#7201a8"
             ],
             [
              0.3333333333333333,
              "#9c179e"
             ],
             [
              0.4444444444444444,
              "#bd3786"
             ],
             [
              0.5555555555555556,
              "#d8576b"
             ],
             [
              0.6666666666666666,
              "#ed7953"
             ],
             [
              0.7777777777777778,
              "#fb9f3a"
             ],
             [
              0.8888888888888888,
              "#fdca26"
             ],
             [
              1,
              "#f0f921"
             ]
            ],
            "type": "heatmap"
           }
          ],
          "heatmapgl": [
           {
            "colorbar": {
             "outlinewidth": 0,
             "ticks": ""
            },
            "colorscale": [
             [
              0,
              "#0d0887"
             ],
             [
              0.1111111111111111,
              "#46039f"
             ],
             [
              0.2222222222222222,
              "#7201a8"
             ],
             [
              0.3333333333333333,
              "#9c179e"
             ],
             [
              0.4444444444444444,
              "#bd3786"
             ],
             [
              0.5555555555555556,
              "#d8576b"
             ],
             [
              0.6666666666666666,
              "#ed7953"
             ],
             [
              0.7777777777777778,
              "#fb9f3a"
             ],
             [
              0.8888888888888888,
              "#fdca26"
             ],
             [
              1,
              "#f0f921"
             ]
            ],
            "type": "heatmapgl"
           }
          ],
          "histogram": [
           {
            "marker": {
             "colorbar": {
              "outlinewidth": 0,
              "ticks": ""
             }
            },
            "type": "histogram"
           }
          ],
          "histogram2d": [
           {
            "colorbar": {
             "outlinewidth": 0,
             "ticks": ""
            },
            "colorscale": [
             [
              0,
              "#0d0887"
             ],
             [
              0.1111111111111111,
              "#46039f"
             ],
             [
              0.2222222222222222,
              "#7201a8"
             ],
             [
              0.3333333333333333,
              "#9c179e"
             ],
             [
              0.4444444444444444,
              "#bd3786"
             ],
             [
              0.5555555555555556,
              "#d8576b"
             ],
             [
              0.6666666666666666,
              "#ed7953"
             ],
             [
              0.7777777777777778,
              "#fb9f3a"
             ],
             [
              0.8888888888888888,
              "#fdca26"
             ],
             [
              1,
              "#f0f921"
             ]
            ],
            "type": "histogram2d"
           }
          ],
          "histogram2dcontour": [
           {
            "colorbar": {
             "outlinewidth": 0,
             "ticks": ""
            },
            "colorscale": [
             [
              0,
              "#0d0887"
             ],
             [
              0.1111111111111111,
              "#46039f"
             ],
             [
              0.2222222222222222,
              "#7201a8"
             ],
             [
              0.3333333333333333,
              "#9c179e"
             ],
             [
              0.4444444444444444,
              "#bd3786"
             ],
             [
              0.5555555555555556,
              "#d8576b"
             ],
             [
              0.6666666666666666,
              "#ed7953"
             ],
             [
              0.7777777777777778,
              "#fb9f3a"
             ],
             [
              0.8888888888888888,
              "#fdca26"
             ],
             [
              1,
              "#f0f921"
             ]
            ],
            "type": "histogram2dcontour"
           }
          ],
          "mesh3d": [
           {
            "colorbar": {
             "outlinewidth": 0,
             "ticks": ""
            },
            "type": "mesh3d"
           }
          ],
          "parcoords": [
           {
            "line": {
             "colorbar": {
              "outlinewidth": 0,
              "ticks": ""
             }
            },
            "type": "parcoords"
           }
          ],
          "pie": [
           {
            "automargin": true,
            "type": "pie"
           }
          ],
          "scatter": [
           {
            "marker": {
             "colorbar": {
              "outlinewidth": 0,
              "ticks": ""
             }
            },
            "type": "scatter"
           }
          ],
          "scatter3d": [
           {
            "line": {
             "colorbar": {
              "outlinewidth": 0,
              "ticks": ""
             }
            },
            "marker": {
             "colorbar": {
              "outlinewidth": 0,
              "ticks": ""
             }
            },
            "type": "scatter3d"
           }
          ],
          "scattercarpet": [
           {
            "marker": {
             "colorbar": {
              "outlinewidth": 0,
              "ticks": ""
             }
            },
            "type": "scattercarpet"
           }
          ],
          "scattergeo": [
           {
            "marker": {
             "colorbar": {
              "outlinewidth": 0,
              "ticks": ""
             }
            },
            "type": "scattergeo"
           }
          ],
          "scattergl": [
           {
            "marker": {
             "colorbar": {
              "outlinewidth": 0,
              "ticks": ""
             }
            },
            "type": "scattergl"
           }
          ],
          "scattermapbox": [
           {
            "marker": {
             "colorbar": {
              "outlinewidth": 0,
              "ticks": ""
             }
            },
            "type": "scattermapbox"
           }
          ],
          "scatterpolar": [
           {
            "marker": {
             "colorbar": {
              "outlinewidth": 0,
              "ticks": ""
             }
            },
            "type": "scatterpolar"
           }
          ],
          "scatterpolargl": [
           {
            "marker": {
             "colorbar": {
              "outlinewidth": 0,
              "ticks": ""
             }
            },
            "type": "scatterpolargl"
           }
          ],
          "scatterternary": [
           {
            "marker": {
             "colorbar": {
              "outlinewidth": 0,
              "ticks": ""
             }
            },
            "type": "scatterternary"
           }
          ],
          "surface": [
           {
            "colorbar": {
             "outlinewidth": 0,
             "ticks": ""
            },
            "colorscale": [
             [
              0,
              "#0d0887"
             ],
             [
              0.1111111111111111,
              "#46039f"
             ],
             [
              0.2222222222222222,
              "#7201a8"
             ],
             [
              0.3333333333333333,
              "#9c179e"
             ],
             [
              0.4444444444444444,
              "#bd3786"
             ],
             [
              0.5555555555555556,
              "#d8576b"
             ],
             [
              0.6666666666666666,
              "#ed7953"
             ],
             [
              0.7777777777777778,
              "#fb9f3a"
             ],
             [
              0.8888888888888888,
              "#fdca26"
             ],
             [
              1,
              "#f0f921"
             ]
            ],
            "type": "surface"
           }
          ],
          "table": [
           {
            "cells": {
             "fill": {
              "color": "#EBF0F8"
             },
             "line": {
              "color": "white"
             }
            },
            "header": {
             "fill": {
              "color": "#C8D4E3"
             },
             "line": {
              "color": "white"
             }
            },
            "type": "table"
           }
          ]
         },
         "layout": {
          "annotationdefaults": {
           "arrowcolor": "#2a3f5f",
           "arrowhead": 0,
           "arrowwidth": 1
          },
          "coloraxis": {
           "colorbar": {
            "outlinewidth": 0,
            "ticks": ""
           }
          },
          "colorscale": {
           "diverging": [
            [
             0,
             "#8e0152"
            ],
            [
             0.1,
             "#c51b7d"
            ],
            [
             0.2,
             "#de77ae"
            ],
            [
             0.3,
             "#f1b6da"
            ],
            [
             0.4,
             "#fde0ef"
            ],
            [
             0.5,
             "#f7f7f7"
            ],
            [
             0.6,
             "#e6f5d0"
            ],
            [
             0.7,
             "#b8e186"
            ],
            [
             0.8,
             "#7fbc41"
            ],
            [
             0.9,
             "#4d9221"
            ],
            [
             1,
             "#276419"
            ]
           ],
           "sequential": [
            [
             0,
             "#0d0887"
            ],
            [
             0.1111111111111111,
             "#46039f"
            ],
            [
             0.2222222222222222,
             "#7201a8"
            ],
            [
             0.3333333333333333,
             "#9c179e"
            ],
            [
             0.4444444444444444,
             "#bd3786"
            ],
            [
             0.5555555555555556,
             "#d8576b"
            ],
            [
             0.6666666666666666,
             "#ed7953"
            ],
            [
             0.7777777777777778,
             "#fb9f3a"
            ],
            [
             0.8888888888888888,
             "#fdca26"
            ],
            [
             1,
             "#f0f921"
            ]
           ],
           "sequentialminus": [
            [
             0,
             "#0d0887"
            ],
            [
             0.1111111111111111,
             "#46039f"
            ],
            [
             0.2222222222222222,
             "#7201a8"
            ],
            [
             0.3333333333333333,
             "#9c179e"
            ],
            [
             0.4444444444444444,
             "#bd3786"
            ],
            [
             0.5555555555555556,
             "#d8576b"
            ],
            [
             0.6666666666666666,
             "#ed7953"
            ],
            [
             0.7777777777777778,
             "#fb9f3a"
            ],
            [
             0.8888888888888888,
             "#fdca26"
            ],
            [
             1,
             "#f0f921"
            ]
           ]
          },
          "colorway": [
           "#636efa",
           "#EF553B",
           "#00cc96",
           "#ab63fa",
           "#FFA15A",
           "#19d3f3",
           "#FF6692",
           "#B6E880",
           "#FF97FF",
           "#FECB52"
          ],
          "font": {
           "color": "#2a3f5f"
          },
          "geo": {
           "bgcolor": "white",
           "lakecolor": "white",
           "landcolor": "#E5ECF6",
           "showlakes": true,
           "showland": true,
           "subunitcolor": "white"
          },
          "hoverlabel": {
           "align": "left"
          },
          "hovermode": "closest",
          "mapbox": {
           "style": "light"
          },
          "paper_bgcolor": "white",
          "plot_bgcolor": "#E5ECF6",
          "polar": {
           "angularaxis": {
            "gridcolor": "white",
            "linecolor": "white",
            "ticks": ""
           },
           "bgcolor": "#E5ECF6",
           "radialaxis": {
            "gridcolor": "white",
            "linecolor": "white",
            "ticks": ""
           }
          },
          "scene": {
           "xaxis": {
            "backgroundcolor": "#E5ECF6",
            "gridcolor": "white",
            "gridwidth": 2,
            "linecolor": "white",
            "showbackground": true,
            "ticks": "",
            "zerolinecolor": "white"
           },
           "yaxis": {
            "backgroundcolor": "#E5ECF6",
            "gridcolor": "white",
            "gridwidth": 2,
            "linecolor": "white",
            "showbackground": true,
            "ticks": "",
            "zerolinecolor": "white"
           },
           "zaxis": {
            "backgroundcolor": "#E5ECF6",
            "gridcolor": "white",
            "gridwidth": 2,
            "linecolor": "white",
            "showbackground": true,
            "ticks": "",
            "zerolinecolor": "white"
           }
          },
          "shapedefaults": {
           "line": {
            "color": "#2a3f5f"
           }
          },
          "ternary": {
           "aaxis": {
            "gridcolor": "white",
            "linecolor": "white",
            "ticks": ""
           },
           "baxis": {
            "gridcolor": "white",
            "linecolor": "white",
            "ticks": ""
           },
           "bgcolor": "#E5ECF6",
           "caxis": {
            "gridcolor": "white",
            "linecolor": "white",
            "ticks": ""
           }
          },
          "title": {
           "x": 0.05
          },
          "xaxis": {
           "automargin": true,
           "gridcolor": "white",
           "linecolor": "white",
           "ticks": "",
           "title": {
            "standoff": 15
           },
           "zerolinecolor": "white",
           "zerolinewidth": 2
          },
          "yaxis": {
           "automargin": true,
           "gridcolor": "white",
           "linecolor": "white",
           "ticks": "",
           "title": {
            "standoff": 15
           },
           "zerolinecolor": "white",
           "zerolinewidth": 2
          }
         }
        },
        "width": 1000
       }
      },
      "text/html": "<div>\n        \n        \n            <div id=\"d114abbc-dcf6-435e-9a9d-dfd0127ab322\" class=\"plotly-graph-div\" style=\"height:1000px; width:1000px;\"></div>\n            <script type=\"text/javascript\">\n                require([\"plotly\"], function(Plotly) {\n                    window.PLOTLYENV=window.PLOTLYENV || {};\n                    \n                if (document.getElementById(\"d114abbc-dcf6-435e-9a9d-dfd0127ab322\")) {\n                    Plotly.newPlot(\n                        'd114abbc-dcf6-435e-9a9d-dfd0127ab322',\n                        [{\"hovertemplate\": \"T=%{x}<br>gamma=%{y}<br>C=%{z}<br>mse=%{text}\", \"marker\": {\"size\": [1.7877628995704606, 2.1589833144446366, 3.0792444950448328, 3.2039114670033166, 4.573911270171729, 6.218160487714979, 4.851773792346163, 5.610481377909492, 7.186494708547419, 6.696624051965473, 6.720233691731188, 7.6192576678353845, 8.274069283397626, 9.379215773401176]}, \"mode\": \"markers\", \"name\": \"day_1\", \"scene\": \"scene\", \"text\": [0.17877628995704606, 0.2158983314444637, 0.3079244495044833, 0.32039114670033164, 0.4573911270171729, 0.6218160487714979, 0.4851773792346163, 0.5610481377909492, 0.7186494708547418, 0.6696624051965473, 0.6720233691731188, 0.7619257667835384, 0.8274069283397626, 0.9379215773401176], \"type\": \"scatter3d\", \"x\": [2, 3, 4, 5, 6, 7, 8, 9, 10, 11, 12, 13, 14, 15], \"y\": [0.01, 0.01, 0.01, 0.01, 0.01, 0.001, 0.01, 0.01, 0.01, 0.01, 0.01, 0.01, 0.001, 0.001], \"z\": [10.0, 10.0, 10.0, 10.0, 10.0, 1000.0, 10.0, 10.0, 10.0, 10.0, 10.0, 10.0, 1000.0, 1000.0]}, {\"hovertemplate\": \"T=%{x}<br>gamma=%{y}<br>C=%{z}<br>mse=%{text}\", \"marker\": {\"size\": [2.4037604893210958, 2.552784417541986, 17.511120199190337, 4.079612019244548, 5.131833498213457, 3.8349813748019166, 4.667798323887287, 6.768849855984006, 13.383702833797154, 30.784631115262716, 7.147798140502136, 69.53686870681526, 13.778186771832656, 8.397974267838842]}, \"mode\": \"markers\", \"name\": \"day_2\", \"scene\": \"scene2\", \"text\": [0.2403760489321096, 0.25527844175419856, 1.7511120199190338, 0.4079612019244548, 0.5131833498213456, 0.3834981374801917, 0.4667798323887287, 0.6768849855984006, 1.3383702833797153, 3.0784631115262715, 0.7147798140502136, 6.953686870681526, 1.3778186771832657, 0.8397974267838842], \"type\": \"scatter3d\", \"x\": [2, 3, 4, 5, 6, 7, 8, 9, 10, 11, 12, 13, 14, 15], \"y\": [0.01, 0.01, 0.01, 0.1, 0.01, 0.01, 0.01, 0.01, 0.01, 0.1, 0.01, 0.001, 0.0001, 0.001], \"z\": [10.0, 10.0, 10000.0, 1000.0, 10000.0, 10.0, 10.0, 10.0, 10.0, 1000.0, 10.0, 100.0, 1000.0, 10.0]}, {\"hovertemplate\": \"T=%{x}<br>gamma=%{y}<br>C=%{z}<br>mse=%{text}\", \"marker\": {\"size\": [5.581369410952491, 6.893035547093852, 12.39537282930283, 12.691545584919604, 21.93516233859836, 18.800922435033797, 19.402466204814182, 27.590230987534746, 23.705840848846442, 21.641322334776653, 25.236650299385254, 28.36797129256881, 33.119726993931245, 32.07421416205135]}, \"mode\": \"markers\", \"name\": \"week_1\", \"scene\": \"scene3\", \"text\": [0.5581369410952491, 0.6893035547093852, 1.2395372829302829, 1.2691545584919603, 2.193516233859836, 1.8800922435033798, 1.9402466204814184, 2.7590230987534747, 2.3705840848846442, 2.164132233477665, 2.5236650299385253, 2.836797129256881, 3.311972699393124, 3.207421416205135], \"type\": \"scatter3d\", \"x\": [2, 3, 4, 5, 6, 7, 8, 9, 10, 11, 12, 13, 14, 15], \"y\": [0.001, 0.001, 0.001, 0.001, 0.001, 0.001, 0.001, 0.001, 0.001, 0.001, 0.001, 0.001, 0.001, 0.001], \"z\": [1000.0, 1000.0, 1000.0, 1000.0, 1000.0, 10000.0, 1000.0, 1000.0, 1000.0, 10000.0, 1000.0, 1000.0, 1000.0, 10000.0]}, {\"hovertemplate\": \"T=%{x}<br>gamma=%{y}<br>C=%{z}<br>mse=%{text}\", \"marker\": {\"size\": [2.1682621655751344, 6.894534926925452, 6.305286128125283, 7.741420401811828, 10.849953175915072, 14.529473073618217, 14.21999391348393, 20.688917927129133, 22.745588667499042, 31.81993190901853, 17.490160899832844, 20.262118410714926, 55.78807071114348, 16.599616694726066]}, \"mode\": \"markers\", \"name\": \"week_2\", \"scene\": \"scene4\", \"text\": [0.21682621655751344, 0.6894534926925452, 0.6305286128125284, 0.7741420401811828, 1.0849953175915072, 1.4529473073618218, 1.421999391348393, 2.0688917927129133, 2.274558866749904, 3.181993190901853, 1.7490160899832845, 2.0262118410714924, 5.5788070711143485, 1.6599616694726065], \"type\": \"scatter3d\", \"x\": [2, 3, 4, 5, 6, 7, 8, 9, 10, 11, 12, 13, 14, 15], \"y\": [0.0001, 0.001, 0.0001, 0.0001, 0.0001, 0.001, 0.001, 0.001, 0.0001, 0.001, 0.001, 0.001, 0.001, 0.001], \"z\": [1000.0, 100.0, 1000.0, 1000.0, 1000.0, 100.0, 100.0, 1000.0, 1000.0, 1000.0, 100.0, 100.0, 10000.0, 100.0]}],\n                        {\"annotations\": [{\"font\": {\"size\": 16}, \"showarrow\": false, \"text\": \"day_1\", \"x\": 0.225, \"xanchor\": \"center\", \"xref\": \"paper\", \"y\": 1.0, \"yanchor\": \"bottom\", \"yref\": \"paper\"}, {\"font\": {\"size\": 16}, \"showarrow\": false, \"text\": \"day_2\", \"x\": 0.775, \"xanchor\": \"center\", \"xref\": \"paper\", \"y\": 1.0, \"yanchor\": \"bottom\", \"yref\": \"paper\"}, {\"font\": {\"size\": 16}, \"showarrow\": false, \"text\": \"week_1\", \"x\": 0.225, \"xanchor\": \"center\", \"xref\": \"paper\", \"y\": 0.375, \"yanchor\": \"bottom\", \"yref\": \"paper\"}, {\"font\": {\"size\": 16}, \"showarrow\": false, \"text\": \"week_2\", \"x\": 0.775, \"xanchor\": \"center\", \"xref\": \"paper\", \"y\": 0.375, \"yanchor\": \"bottom\", \"yref\": \"paper\"}], \"height\": 1000, \"scene\": {\"domain\": {\"x\": [0.0, 0.45], \"y\": [0.625, 1.0]}, \"xaxis\": {\"title\": {\"text\": \"T\"}}, \"yaxis\": {\"tickvals\": [0.0001, 0.001, 0.01, 0.1], \"title\": {\"text\": \"gamma\"}, \"type\": \"log\"}, \"zaxis\": {\"tickvals\": [10.0, 100.0, 1000.0, 10000.0], \"title\": {\"text\": \"C\"}, \"type\": \"log\"}}, \"scene2\": {\"domain\": {\"x\": [0.55, 1.0], \"y\": [0.625, 1.0]}, \"xaxis\": {\"title\": {\"text\": \"T\"}}, \"yaxis\": {\"tickvals\": [0.0001, 0.001, 0.01, 0.1], \"title\": {\"text\": \"gamma\"}, \"type\": \"log\"}, \"zaxis\": {\"tickvals\": [10.0, 100.0, 1000.0, 10000.0], \"title\": {\"text\": \"C\"}, \"type\": \"log\"}}, \"scene3\": {\"domain\": {\"x\": [0.0, 0.45], \"y\": [0.0, 0.375]}, \"xaxis\": {\"title\": {\"text\": \"T\"}}, \"yaxis\": {\"tickvals\": [0.0001, 0.001, 0.01, 0.1], \"title\": {\"text\": \"gamma\"}, \"type\": \"log\"}, \"zaxis\": {\"tickvals\": [10.0, 100.0, 1000.0, 10000.0], \"title\": {\"text\": \"C\"}, \"type\": \"log\"}}, \"scene4\": {\"domain\": {\"x\": [0.55, 1.0], \"y\": [0.0, 0.375]}, \"xaxis\": {\"title\": {\"text\": \"T\"}}, \"yaxis\": {\"tickvals\": [0.0001, 0.001, 0.01, 0.1], \"title\": {\"text\": \"gamma\"}, \"type\": \"log\"}, \"zaxis\": {\"tickvals\": [10.0, 100.0, 1000.0, 10000.0], \"title\": {\"text\": \"C\"}, \"type\": \"log\"}}, \"showlegend\": false, \"template\": {\"data\": {\"bar\": [{\"error_x\": {\"color\": \"#2a3f5f\"}, \"error_y\": {\"color\": \"#2a3f5f\"}, \"marker\": {\"line\": {\"color\": \"#E5ECF6\", \"width\": 0.5}}, \"type\": \"bar\"}], \"barpolar\": [{\"marker\": {\"line\": {\"color\": \"#E5ECF6\", \"width\": 0.5}}, \"type\": \"barpolar\"}], \"carpet\": [{\"aaxis\": {\"endlinecolor\": \"#2a3f5f\", \"gridcolor\": \"white\", \"linecolor\": \"white\", \"minorgridcolor\": \"white\", \"startlinecolor\": \"#2a3f5f\"}, \"baxis\": {\"endlinecolor\": \"#2a3f5f\", \"gridcolor\": \"white\", \"linecolor\": \"white\", \"minorgridcolor\": \"white\", \"startlinecolor\": \"#2a3f5f\"}, \"type\": \"carpet\"}], \"choropleth\": [{\"colorbar\": {\"outlinewidth\": 0, \"ticks\": \"\"}, \"type\": \"choropleth\"}], \"contour\": [{\"colorbar\": {\"outlinewidth\": 0, \"ticks\": \"\"}, \"colorscale\": [[0.0, \"#0d0887\"], [0.1111111111111111, \"#46039f\"], [0.2222222222222222, \"#7201a8\"], [0.3333333333333333, \"#9c179e\"], [0.4444444444444444, \"#bd3786\"], [0.5555555555555556, \"#d8576b\"], [0.6666666666666666, \"#ed7953\"], [0.7777777777777778, \"#fb9f3a\"], [0.8888888888888888, \"#fdca26\"], [1.0, \"#f0f921\"]], \"type\": \"contour\"}], \"contourcarpet\": [{\"colorbar\": {\"outlinewidth\": 0, \"ticks\": \"\"}, \"type\": \"contourcarpet\"}], \"heatmap\": [{\"colorbar\": {\"outlinewidth\": 0, \"ticks\": \"\"}, \"colorscale\": [[0.0, \"#0d0887\"], [0.1111111111111111, \"#46039f\"], [0.2222222222222222, \"#7201a8\"], [0.3333333333333333, \"#9c179e\"], [0.4444444444444444, \"#bd3786\"], [0.5555555555555556, \"#d8576b\"], [0.6666666666666666, \"#ed7953\"], [0.7777777777777778, \"#fb9f3a\"], [0.8888888888888888, \"#fdca26\"], [1.0, \"#f0f921\"]], \"type\": \"heatmap\"}], \"heatmapgl\": [{\"colorbar\": {\"outlinewidth\": 0, \"ticks\": \"\"}, \"colorscale\": [[0.0, \"#0d0887\"], [0.1111111111111111, \"#46039f\"], [0.2222222222222222, \"#7201a8\"], [0.3333333333333333, \"#9c179e\"], [0.4444444444444444, \"#bd3786\"], [0.5555555555555556, \"#d8576b\"], [0.6666666666666666, \"#ed7953\"], [0.7777777777777778, \"#fb9f3a\"], [0.8888888888888888, \"#fdca26\"], [1.0, \"#f0f921\"]], \"type\": \"heatmapgl\"}], \"histogram\": [{\"marker\": {\"colorbar\": {\"outlinewidth\": 0, \"ticks\": \"\"}}, \"type\": \"histogram\"}], \"histogram2d\": [{\"colorbar\": {\"outlinewidth\": 0, \"ticks\": \"\"}, \"colorscale\": [[0.0, \"#0d0887\"], [0.1111111111111111, \"#46039f\"], [0.2222222222222222, \"#7201a8\"], [0.3333333333333333, \"#9c179e\"], [0.4444444444444444, \"#bd3786\"], [0.5555555555555556, \"#d8576b\"], [0.6666666666666666, \"#ed7953\"], [0.7777777777777778, \"#fb9f3a\"], [0.8888888888888888, \"#fdca26\"], [1.0, \"#f0f921\"]], \"type\": \"histogram2d\"}], \"histogram2dcontour\": [{\"colorbar\": {\"outlinewidth\": 0, \"ticks\": \"\"}, \"colorscale\": [[0.0, \"#0d0887\"], [0.1111111111111111, \"#46039f\"], [0.2222222222222222, \"#7201a8\"], [0.3333333333333333, \"#9c179e\"], [0.4444444444444444, \"#bd3786\"], [0.5555555555555556, \"#d8576b\"], [0.6666666666666666, \"#ed7953\"], [0.7777777777777778, \"#fb9f3a\"], [0.8888888888888888, \"#fdca26\"], [1.0, \"#f0f921\"]], \"type\": \"histogram2dcontour\"}], \"mesh3d\": [{\"colorbar\": {\"outlinewidth\": 0, \"ticks\": \"\"}, \"type\": \"mesh3d\"}], \"parcoords\": [{\"line\": {\"colorbar\": {\"outlinewidth\": 0, \"ticks\": \"\"}}, \"type\": \"parcoords\"}], \"pie\": [{\"automargin\": true, \"type\": \"pie\"}], \"scatter\": [{\"marker\": {\"colorbar\": {\"outlinewidth\": 0, \"ticks\": \"\"}}, \"type\": \"scatter\"}], \"scatter3d\": [{\"line\": {\"colorbar\": {\"outlinewidth\": 0, \"ticks\": \"\"}}, \"marker\": {\"colorbar\": {\"outlinewidth\": 0, \"ticks\": \"\"}}, \"type\": \"scatter3d\"}], \"scattercarpet\": [{\"marker\": {\"colorbar\": {\"outlinewidth\": 0, \"ticks\": \"\"}}, \"type\": \"scattercarpet\"}], \"scattergeo\": [{\"marker\": {\"colorbar\": {\"outlinewidth\": 0, \"ticks\": \"\"}}, \"type\": \"scattergeo\"}], \"scattergl\": [{\"marker\": {\"colorbar\": {\"outlinewidth\": 0, \"ticks\": \"\"}}, \"type\": \"scattergl\"}], \"scattermapbox\": [{\"marker\": {\"colorbar\": {\"outlinewidth\": 0, \"ticks\": \"\"}}, \"type\": \"scattermapbox\"}], \"scatterpolar\": [{\"marker\": {\"colorbar\": {\"outlinewidth\": 0, \"ticks\": \"\"}}, \"type\": \"scatterpolar\"}], \"scatterpolargl\": [{\"marker\": {\"colorbar\": {\"outlinewidth\": 0, \"ticks\": \"\"}}, \"type\": \"scatterpolargl\"}], \"scatterternary\": [{\"marker\": {\"colorbar\": {\"outlinewidth\": 0, \"ticks\": \"\"}}, \"type\": \"scatterternary\"}], \"surface\": [{\"colorbar\": {\"outlinewidth\": 0, \"ticks\": \"\"}, \"colorscale\": [[0.0, \"#0d0887\"], [0.1111111111111111, \"#46039f\"], [0.2222222222222222, \"#7201a8\"], [0.3333333333333333, \"#9c179e\"], [0.4444444444444444, \"#bd3786\"], [0.5555555555555556, \"#d8576b\"], [0.6666666666666666, \"#ed7953\"], [0.7777777777777778, \"#fb9f3a\"], [0.8888888888888888, \"#fdca26\"], [1.0, \"#f0f921\"]], \"type\": \"surface\"}], \"table\": [{\"cells\": {\"fill\": {\"color\": \"#EBF0F8\"}, \"line\": {\"color\": \"white\"}}, \"header\": {\"fill\": {\"color\": \"#C8D4E3\"}, \"line\": {\"color\": \"white\"}}, \"type\": \"table\"}]}, \"layout\": {\"annotationdefaults\": {\"arrowcolor\": \"#2a3f5f\", \"arrowhead\": 0, \"arrowwidth\": 1}, \"coloraxis\": {\"colorbar\": {\"outlinewidth\": 0, \"ticks\": \"\"}}, \"colorscale\": {\"diverging\": [[0, \"#8e0152\"], [0.1, \"#c51b7d\"], [0.2, \"#de77ae\"], [0.3, \"#f1b6da\"], [0.4, \"#fde0ef\"], [0.5, \"#f7f7f7\"], [0.6, \"#e6f5d0\"], [0.7, \"#b8e186\"], [0.8, \"#7fbc41\"], [0.9, \"#4d9221\"], [1, \"#276419\"]], \"sequential\": [[0.0, \"#0d0887\"], [0.1111111111111111, \"#46039f\"], [0.2222222222222222, \"#7201a8\"], [0.3333333333333333, \"#9c179e\"], [0.4444444444444444, \"#bd3786\"], [0.5555555555555556, \"#d8576b\"], [0.6666666666666666, \"#ed7953\"], [0.7777777777777778, \"#fb9f3a\"], [0.8888888888888888, \"#fdca26\"], [1.0, \"#f0f921\"]], \"sequentialminus\": [[0.0, \"#0d0887\"], [0.1111111111111111, \"#46039f\"], [0.2222222222222222, \"#7201a8\"], [0.3333333333333333, \"#9c179e\"], [0.4444444444444444, \"#bd3786\"], [0.5555555555555556, \"#d8576b\"], [0.6666666666666666, \"#ed7953\"], [0.7777777777777778, \"#fb9f3a\"], [0.8888888888888888, \"#fdca26\"], [1.0, \"#f0f921\"]]}, \"colorway\": [\"#636efa\", \"#EF553B\", \"#00cc96\", \"#ab63fa\", \"#FFA15A\", \"#19d3f3\", \"#FF6692\", \"#B6E880\", \"#FF97FF\", \"#FECB52\"], \"font\": {\"color\": \"#2a3f5f\"}, \"geo\": {\"bgcolor\": \"white\", \"lakecolor\": \"white\", \"landcolor\": \"#E5ECF6\", \"showlakes\": true, \"showland\": true, \"subunitcolor\": \"white\"}, \"hoverlabel\": {\"align\": \"left\"}, \"hovermode\": \"closest\", \"mapbox\": {\"style\": \"light\"}, \"paper_bgcolor\": \"white\", \"plot_bgcolor\": \"#E5ECF6\", \"polar\": {\"angularaxis\": {\"gridcolor\": \"white\", \"linecolor\": \"white\", \"ticks\": \"\"}, \"bgcolor\": \"#E5ECF6\", \"radialaxis\": {\"gridcolor\": \"white\", \"linecolor\": \"white\", \"ticks\": \"\"}}, \"scene\": {\"xaxis\": {\"backgroundcolor\": \"#E5ECF6\", \"gridcolor\": \"white\", \"gridwidth\": 2, \"linecolor\": \"white\", \"showbackground\": true, \"ticks\": \"\", \"zerolinecolor\": \"white\"}, \"yaxis\": {\"backgroundcolor\": \"#E5ECF6\", \"gridcolor\": \"white\", \"gridwidth\": 2, \"linecolor\": \"white\", \"showbackground\": true, \"ticks\": \"\", \"zerolinecolor\": \"white\"}, \"zaxis\": {\"backgroundcolor\": \"#E5ECF6\", \"gridcolor\": \"white\", \"gridwidth\": 2, \"linecolor\": \"white\", \"showbackground\": true, \"ticks\": \"\", \"zerolinecolor\": \"white\"}}, \"shapedefaults\": {\"line\": {\"color\": \"#2a3f5f\"}}, \"ternary\": {\"aaxis\": {\"gridcolor\": \"white\", \"linecolor\": \"white\", \"ticks\": \"\"}, \"baxis\": {\"gridcolor\": \"white\", \"linecolor\": \"white\", \"ticks\": \"\"}, \"bgcolor\": \"#E5ECF6\", \"caxis\": {\"gridcolor\": \"white\", \"linecolor\": \"white\", \"ticks\": \"\"}}, \"title\": {\"x\": 0.05}, \"xaxis\": {\"automargin\": true, \"gridcolor\": \"white\", \"linecolor\": \"white\", \"ticks\": \"\", \"title\": {\"standoff\": 15}, \"zerolinecolor\": \"white\", \"zerolinewidth\": 2}, \"yaxis\": {\"automargin\": true, \"gridcolor\": \"white\", \"linecolor\": \"white\", \"ticks\": \"\", \"title\": {\"standoff\": 15}, \"zerolinecolor\": \"white\", \"zerolinewidth\": 2}}}, \"width\": 1000},\n                        {\"responsive\": true}\n                    ).then(function(){\n                            \nvar gd = document.getElementById('d114abbc-dcf6-435e-9a9d-dfd0127ab322');\nvar x = new MutationObserver(function (mutations, observer) {{\n        var display = window.getComputedStyle(gd).display;\n        if (!display || display === 'none') {{\n            console.log([gd, 'removed!']);\n            Plotly.purge(gd);\n            observer.disconnect();\n        }}\n}});\n\n// Listen for the removal of the full notebook cells\nvar notebookContainer = gd.closest('#notebook-container');\nif (notebookContainer) {{\n    x.observe(notebookContainer, {childList: true});\n}}\n\n// Listen for the clearing of the current output cell\nvar outputEl = gd.closest('.output');\nif (outputEl) {{\n    x.observe(outputEl, {childList: true});\n}}\n\n                        })\n                };\n                });\n            </script>\n        </div>"
     },
     "metadata": {},
     "output_type": "display_data"
    }
   ],
   "source": [
    "fig = make_subplots(\n",
    "    rows=2,\n",
    "    cols=2,\n",
    "    specs=[[{'type': 'scene'},\n",
    "            {'type': 'scene'}\n",
    "            ],\n",
    "            [\n",
    "            {'type': 'scene'},\n",
    "            {'type': 'scene'}\n",
    "            ]\n",
    "    ],\n",
    "    subplot_titles=['day_1', 'day_2', 'week_1', 'week_2']\n",
    ")\n",
    "fig.add_traces(\n",
    "    [go.Scatter3d(\n",
    "        x=df.index,\n",
    "        y=df['gamma'],\n",
    "        z=df['C'],\n",
    "        mode='markers',\n",
    "        marker_size=df['mse'] * 10,\n",
    "        name=name,\n",
    "        text=df['mse'],\n",
    "        hovertemplate='T=%{x}<br>gamma=%{y}<br>C=%{z}<br>mse=%{text}',\n",
    "    ) for df, name in [(day_1, 'day_1'), (day_2, 'day_2'), (week_1, 'week_1'), (week_2, 'week_2')]],\n",
    "    rows=[1, 1, 2, 2],\n",
    "    cols=[1, 2, 1, 2]\n",
    ")\n",
    "scene_dict=dict(\n",
    "    xaxis_title='T',\n",
    "    yaxis=dict(\n",
    "        type='log',\n",
    "        title='gamma',\n",
    "        tickvals=np.logspace(-4, -1, 4)\n",
    "    ),\n",
    "    zaxis=dict(\n",
    "        type='log',\n",
    "        title='C',\n",
    "        tickvals=np.logspace(1, 4, 4)\n",
    "    ),\n",
    ")\n",
    "fig.update_layout(\n",
    "    scene=scene_dict,\n",
    "    scene2=scene_dict,\n",
    "    scene3=scene_dict,\n",
    "    scene4=scene_dict,\n",
    "    showlegend=False,\n",
    "    width=1000,\n",
    "    height=1000\n",
    ")\n",
    "fig.show()"
   ]
  },
  {
   "cell_type": "code",
   "execution_count": null,
   "metadata": {},
   "outputs": [],
   "source": []
  }
 ],
 "metadata": {
  "file_extension": ".py",
  "kernelspec": {
   "display_name": "Python 3",
   "language": "python",
   "name": "python3"
  },
  "language_info": {
   "codemirror_mode": {
    "name": "ipython",
    "version": 3
   },
   "file_extension": ".py",
   "mimetype": "text/x-python",
   "name": "python",
   "nbconvert_exporter": "python",
   "pygments_lexer": "ipython3",
   "version": "3.7.6-final"
  },
  "mimetype": "text/x-python",
  "name": "python",
  "npconvert_exporter": "python",
  "pygments_lexer": "ipython3",
  "version": 3
 },
 "nbformat": 4,
 "nbformat_minor": 4
}