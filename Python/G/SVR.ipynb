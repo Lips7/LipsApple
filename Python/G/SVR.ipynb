{
 "cells": [
  {
   "cell_type": "markdown",
   "execution_count": null,
   "metadata": {},
   "outputs": [],
   "source": [
    "# 毕业设计"
   ]
  },
  {
   "cell_type": "code",
   "execution_count": 1,
   "metadata": {},
   "outputs": [],
   "source": [
    "import matplotlib.pyplot as plt\n",
    "import numpy as np\n",
    "import os\n",
    "import pandas as pd\n",
    "import plotly.figure_factory as ff\n",
    "import plotly.graph_objects as go\n",
    "from plotly.subplots import make_subplots\n",
    "from sklearn.metrics import accuracy_score\n",
    "from sklearn.model_selection import GridSearchCV, train_test_split\n",
    "from sklearn.pipeline import Pipeline, make_pipeline\n",
    "from sklearn.preprocessing import StandardScaler\n",
    "from sklearn.svm import SVR"
   ]
  },
  {
   "cell_type": "code",
   "execution_count": 79,
   "metadata": {},
   "outputs": [],
   "source": [
    "T = 15\n",
    "path = '../../../Dataset/Stock/'"
   ]
  },
  {
   "cell_type": "markdown",
   "execution_count": null,
   "metadata": {},
   "outputs": [],
   "source": [
    "## 获取数据"
   ]
  },
  {
   "cell_type": "markdown",
   "execution_count": null,
   "metadata": {},
   "outputs": [],
   "source": [
    "### Day"
   ]
  },
  {
   "cell_type": "code",
   "execution_count": 80,
   "metadata": {},
   "outputs": [],
   "source": [
    "day_path = os.path.join(path, 'day')\n",
    "day_1 = day_2 = pd.read_csv('Data/test.csv') # 空文件，迭代用\n",
    "freq = 'B' # 工作日"
   ]
  },
  {
   "cell_type": "code",
   "execution_count": 81,
   "metadata": {},
   "outputs": [],
   "source": [
    "for file in os.listdir(day_path):\n",
    "    file_path = os.path.join(day_path, file)\n",
    "    df = pd.read_csv(file_path, index_col='index', parse_dates=True) # 读取数据，时间序列索引\n",
    "    df.dropna(inplace=True) # 去掉空值\n",
    "\n",
    "    up = df.query('open<close') # 阳线\n",
    "    down = df.query('open>close') # 阴线\n",
    "    up = up.tshift(1, freq=freq) # 将阳线时间戳后移1工作日\n",
    "\n",
    "    new = up.join(down, how='inner', lsuffix='_up', rsuffix='_down') # 合并\n",
    "    new.query('vol_down>vol_up', inplace=True) # vol(2)>vol(1)\n",
    "\n",
    "    first = new.query('close_down>close_up') # close(2)>close(1)\n",
    "    first_low_mean = []\n",
    "    # 计算未来T交易日的最低价平均值\n",
    "    for start in first.index:\n",
    "        T_1_period = pd.date_range(start=start + pd.offsets.BDay(), periods=T, freq=freq)\n",
    "        # 时间范围可能无效\n",
    "        try:\n",
    "            first_low_mean.append(df.loc[T_1_period].low.mean())\n",
    "        except:\n",
    "            first.drop(index=start, inplace=True) # 清除无效行\n",
    "            continue\n",
    "    first_low_mean = pd.Series(first_low_mean, index=first.index, name='T_mean')\n",
    "    piece_1 = pd.concat([first, first_low_mean], axis=1, join='inner').reset_index(drop=True) # 去除时间索引\n",
    "    day_1 = pd.concat([day_1, piece_1])\n",
    "\n",
    "    second = new.query('close_down>close_up & low_down<low_up') #close(2)>close(1) & low(2)<low(1)\n",
    "    second_low_mean = []\n",
    "    # 计算未来T交易日的最低价平均值\n",
    "    for start in second.index:\n",
    "        T_2_period = pd.date_range(start=start + pd.offsets.BDay(), periods=T, freq=freq)\n",
    "        try:\n",
    "            second_low_mean.append(df.loc[T_2_period].low.mean())\n",
    "        except:\n",
    "            second.drop(index=start, inplace=True) # 清除无效行\n",
    "            continue\n",
    "    second_low_mean = pd.Series(second_low_mean, index=second.index, name='T_mean')\n",
    "    piece_2 = pd.concat([second, second_low_mean], axis=1, join='inner').reset_index(drop=True) # 去除时间索引\n",
    "    day_2 = pd.concat([day_2, piece_2])"
   ]
  },
  {
   "cell_type": "code",
   "execution_count": 82,
   "metadata": {},
   "outputs": [],
   "source": [
    "day_1.to_csv(os.path.join('Data','T='+str(T),'day_1.csv'))\n",
    "day_2.to_csv(os.path.join('Data','T='+str(T),'day_2.csv'))"
   ]
  },
  {
   "cell_type": "markdown",
   "execution_count": null,
   "metadata": {},
   "outputs": [],
   "source": [
    "### Week"
   ]
  },
  {
   "cell_type": "code",
   "execution_count": 83,
   "metadata": {},
   "outputs": [],
   "source": [
    "week_path = os.path.join(path, 'week')\n",
    "week_1 = week_2 = pd.read_csv('Data/test.csv') # 空文件，迭代用\n",
    "freq = '7D' # 周"
   ]
  },
  {
   "cell_type": "code",
   "execution_count": 84,
   "metadata": {},
   "outputs": [],
   "source": [
    "for file in os.listdir(week_path):\n",
    "    file_path = os.path.join(week_path, file)\n",
    "    df = pd.read_csv(file_path, index_col='index', parse_dates=True) # 读取数据，时间序列索引\n",
    "    df.dropna(inplace=True) # 去掉空值\n",
    "\n",
    "    up = df.query('open<close') # 阳线\n",
    "    down = df.query('open>close') # 阴线\n",
    "    up = up.tshift(1, freq=freq) # 将阳线时间戳后移1周\n",
    "\n",
    "    new = up.join(down, how='inner', lsuffix='_up', rsuffix='_down') # 合并\n",
    "    new.query('vol_down>vol_up', inplace=True) # vol(2)>vol(1)\n",
    "\n",
    "    first = new.query('close_down>close_up') # close(2)>close(1)\n",
    "    first_low_mean = []\n",
    "    # 计算未来T周的最低价平均值\n",
    "    for start in first.index:\n",
    "        T_1_period = pd.date_range(start=start + pd.offsets.Week(), periods=T, freq=freq)\n",
    "        # 时间范围可能无效\n",
    "        try:\n",
    "            first_low_mean.append(df.loc[T_1_period].low.mean())\n",
    "        except:\n",
    "            first.drop(index=start, inplace=True) # 清除无效行\n",
    "            continue\n",
    "    first_low_mean = pd.Series(first_low_mean, index=first.index, name='T_mean')\n",
    "    piece_1 = pd.concat([first, first_low_mean], axis=1, join='inner').reset_index(drop=True) # 去除时间索引\n",
    "    week_1 = pd.concat([week_1, piece_1])\n",
    "\n",
    "    second = new.query('close_down>close_up & low_down<low_up') #close(2)>close(1) & low(2)<low(1)\n",
    "    second_low_mean = []\n",
    "    # 计算未来T周的最低价平均值\n",
    "    for start in second.index:\n",
    "        T_2_period = pd.date_range(start=start + pd.offsets.Week(), periods=T, freq=freq)\n",
    "        try:\n",
    "            second_low_mean.append(df.loc[T_2_period].low.mean())\n",
    "        except:\n",
    "            second.drop(index=start, inplace=True) # 清除无效行\n",
    "            continue\n",
    "    second_low_mean = pd.Series(second_low_mean, index=second.index, name='T_mean')\n",
    "    piece_2 = pd.concat([second, second_low_mean], axis=1, join='inner').reset_index(drop=True) # 去除时间索引\n",
    "    week_2 = pd.concat([week_2, piece_2])"
   ]
  },
  {
   "cell_type": "code",
   "execution_count": 85,
   "metadata": {},
   "outputs": [],
   "source": [
    "week_1.to_csv(os.path.join('Data','T='+str(T),'week_1.csv'))\n",
    "week_2.to_csv(os.path.join('Data','T='+str(T),'week_2.csv'))"
   ]
  },
  {
   "cell_type": "markdown",
   "execution_count": null,
   "metadata": {},
   "outputs": [],
   "source": [
    "### Month"
   ]
  },
  {
   "cell_type": "code",
   "execution_count": null,
   "metadata": {},
   "outputs": [],
   "source": [
    "month_path = os.path.join(path, 'month')\n",
    "month_1 = month_2 = pd.read_csv('Data/test.csv') # 空文件，迭代用\n",
    "freq = 'BM' # 工作日月末"
   ]
  },
  {
   "cell_type": "code",
   "execution_count": null,
   "metadata": {},
   "outputs": [],
   "source": [
    "for file in os.listdir(month_path):\n",
    "    file_path = os.path.join(month_path, file)\n",
    "    df = pd.read_csv(file_path, index_col='index', parse_dates=True) # 读取数据，时间序列索引\n",
    "    df.dropna(inplace=True) # 去掉空值\n",
    "\n",
    "    up = df.query('open<close') # 阳线\n",
    "    down = df.query('open>close') # 阴线\n",
    "    up = up.tshift(1, freq=freq) # 将阳线时间戳后移1月\n",
    "\n",
    "    new = up.join(down, how='inner', lsuffix='_up', rsuffix='_down') # 合并\n",
    "    new.query('vol_down>vol_up', inplace=True) # vol(2)>vol(1)\n",
    "\n",
    "    first = new.query('close_down>close_up') # close(2)>close(1)\n",
    "    first_low_mean = []\n",
    "    # 计算未来T月的最低价平均值\n",
    "    for start in first.index:\n",
    "        T_1_period = pd.date_range(start=start + pd.offsets.BusinessMonthEnd(), periods=T, freq=freq)\n",
    "        # 时间范围可能无效\n",
    "        try:\n",
    "            first_low_mean.append(df.loc[T_1_period].low.mean())\n",
    "        except:\n",
    "            first.drop(index=start, inplace=True) # 清除无效行\n",
    "            continue\n",
    "    first_low_mean = pd.Series(first_low_mean, index=first.index, name='T_mean')\n",
    "    piece_1 = pd.concat([first, first_low_mean], axis=1, join='inner').reset_index(drop=True) # 去除时间索引\n",
    "    month_1 = pd.concat([month_1, piece_1])\n",
    "\n",
    "    second = new.query('close_down>close_up & low_down<low_up') #close(2)>close(1) & low(2)<low(1)\n",
    "    second_low_mean = []\n",
    "    # 计算未来T月的最低价平均值\n",
    "    for start in second.index:\n",
    "        T_2_period = pd.date_range(start=start + pd.offsets.BusinessMonthEnd(), periods=T, freq=freq)\n",
    "        try:\n",
    "            second_low_mean.append(df.loc[T_2_period].low.mean())\n",
    "        except:\n",
    "            second.drop(index=start, inplace=True) # 清除无效行\n",
    "            continue\n",
    "    second_low_mean = pd.Series(second_low_mean, index=second.index, name='T_mean')\n",
    "    piece_2 = pd.concat([second, second_low_mean], axis=1, join='inner').reset_index(drop=True) # 去除时间索引\n",
    "    month_2 = pd.concat([month_2, piece_2])"
   ]
  },
  {
   "cell_type": "code",
   "execution_count": null,
   "metadata": {},
   "outputs": [],
   "source": [
    "month_1.to_csv(os.path.join('Data','T='+str(T),'month_1.csv'))\n",
    "month_2.to_csv(os.path.join('Data','T='+str(T),'month_2.csv'))"
   ]
  },
  {
   "cell_type": "markdown",
   "execution_count": null,
   "metadata": {},
   "outputs": [],
   "source": [
    "## 构建模型"
   ]
  },
  {
   "cell_type": "code",
   "execution_count": null,
   "metadata": {},
   "outputs": [],
   "source": []
  }
 ],
 "metadata": {
  "file_extension": ".py",
  "kernelspec": {
   "display_name": "Python 3",
   "language": "python",
   "name": "python3"
  },
  "language_info": {
   "codemirror_mode": {
    "name": "ipython",
    "version": 3
   },
   "file_extension": ".py",
   "mimetype": "text/x-python",
   "name": "python",
   "nbconvert_exporter": "python",
   "pygments_lexer": "ipython3",
   "version": "3.7.6-final"
  },
  "mimetype": "text/x-python",
  "name": "python",
  "npconvert_exporter": "python",
  "pygments_lexer": "ipython3",
  "version": 3
 },
 "nbformat": 4,
 "nbformat_minor": 4
}